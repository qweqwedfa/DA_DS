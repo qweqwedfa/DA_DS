{
 "cells": [
  {
   "cell_type": "code",
   "execution_count": 52,
   "metadata": {},
   "outputs": [],
   "source": [
    "from sklearn.ensemble import RandomForestClassifier, StackingClassifier, GradientBoostingClassifier\n",
    "from sklearn.linear_model import LogisticRegression\n",
    "from sklearn.metrics import confusion_matrix, classification_report, accuracy_score\n",
    "from sklearn.model_selection import ShuffleSplit, train_test_split\n",
    "from sklearn.preprocessing import StandardScaler, LabelEncoder, MinMaxScaler\n",
    "\n",
    "from sklearn.feature_selection import SelectFromModel\n",
    "from sklearn.decomposition import PCA\n",
    "from imblearn.over_sampling import SMOTE\n",
    "import pandas as pd\n",
    "import matplotlib.pyplot as plt\n",
    "import seaborn as sns\n",
    "import numpy as np\n",
    "from collections import Counter"
   ]
  },
  {
   "cell_type": "code",
   "execution_count": 53,
   "metadata": {},
   "outputs": [
    {
     "data": {
      "text/plain": [
       "Index(['gender', 'SeniorCitizen', 'Partner', 'Dependents', 'tenure',\n",
       "       'PhoneService', 'MultipleLines', 'InternetService', 'OnlineSecurity',\n",
       "       'OnlineBackup', 'DeviceProtection', 'TechSupport', 'StreamingTV',\n",
       "       'StreamingMovies', 'Contract', 'PaperlessBilling', 'PaymentMethod',\n",
       "       'MonthlyCharges', 'TotalCharges', 'Churn'],\n",
       "      dtype='object')"
      ]
     },
     "execution_count": 53,
     "metadata": {},
     "output_type": "execute_result"
    }
   ],
   "source": [
    "df = pd.read_csv(\"./WA_Fn-UseC_-Telco-Customer-Churn.csv\")\n",
    "df_cleaned = df[~df['TotalCharges'].isin([' ', '', '  '])].drop(columns='customerID', axis=1)\n",
    "df_cleaned['TotalCharges'] = df_cleaned['TotalCharges'].astype(float)\n",
    "df_cleaned.columns"
   ]
  },
  {
   "cell_type": "code",
   "execution_count": 54,
   "metadata": {},
   "outputs": [
    {
     "name": "stdout",
     "output_type": "stream",
     "text": [
      "gender  :  [0 1]  =  ['Female' 'Male']\n",
      "Partner  :  [1 0]  =  ['Yes' 'No']\n",
      "Dependents  :  [0 1]  =  ['No' 'Yes']\n",
      "PhoneService  :  [0 1]  =  ['No' 'Yes']\n",
      "MultipleLines  :  [1 0 2]  =  ['No phone service' 'No' 'Yes']\n",
      "InternetService  :  [0 1 2]  =  ['DSL' 'Fiber optic' 'No']\n",
      "OnlineSecurity  :  [0 2 1]  =  ['No' 'Yes' 'No internet service']\n",
      "OnlineBackup  :  [2 0 1]  =  ['Yes' 'No' 'No internet service']\n",
      "DeviceProtection  :  [0 2 1]  =  ['No' 'Yes' 'No internet service']\n",
      "TechSupport  :  [0 2 1]  =  ['No' 'Yes' 'No internet service']\n",
      "StreamingTV  :  [0 2 1]  =  ['No' 'Yes' 'No internet service']\n",
      "StreamingMovies  :  [0 2 1]  =  ['No' 'Yes' 'No internet service']\n",
      "Contract  :  [0 1 2]  =  ['Month-to-month' 'One year' 'Two year']\n",
      "PaperlessBilling  :  [1 0]  =  ['Yes' 'No']\n",
      "PaymentMethod  :  [2 3 0 1]  =  ['Electronic check' 'Mailed check' 'Bank transfer (automatic)'\n",
      " 'Credit card (automatic)']\n",
      "Churn  :  [0 1]  =  ['No' 'Yes']\n"
     ]
    }
   ],
   "source": [
    "label_ = LabelEncoder()\n",
    "\n",
    "df1 = df_cleaned.copy(deep = True)\n",
    "# to select the columns which are not nummerical\n",
    "text_data_features = [i for i in list(df_cleaned.columns) if i not in list(df_cleaned.describe().columns)]\n",
    "for i in text_data_features :\n",
    "    df1[i] = label_.fit_transform(df1[i])\n",
    "    print(i,' : ', df1[i].unique(),' = ', label_.inverse_transform(df1[i].unique()))"
   ]
  },
  {
   "cell_type": "code",
   "execution_count": 55,
   "metadata": {},
   "outputs": [
    {
     "data": {
      "text/html": [
       "<div>\n",
       "<style scoped>\n",
       "    .dataframe tbody tr th:only-of-type {\n",
       "        vertical-align: middle;\n",
       "    }\n",
       "\n",
       "    .dataframe tbody tr th {\n",
       "        vertical-align: top;\n",
       "    }\n",
       "\n",
       "    .dataframe thead th {\n",
       "        text-align: right;\n",
       "    }\n",
       "</style>\n",
       "<table border=\"1\" class=\"dataframe\">\n",
       "  <thead>\n",
       "    <tr style=\"text-align: right;\">\n",
       "      <th></th>\n",
       "      <th>SeniorCitizen</th>\n",
       "      <th>Partner</th>\n",
       "      <th>Dependents</th>\n",
       "      <th>tenure</th>\n",
       "      <th>OnlineSecurity</th>\n",
       "      <th>OnlineBackup</th>\n",
       "      <th>DeviceProtection</th>\n",
       "      <th>TechSupport</th>\n",
       "      <th>Contract</th>\n",
       "      <th>PaperlessBilling</th>\n",
       "      <th>PaymentMethod</th>\n",
       "      <th>MonthlyCharges</th>\n",
       "      <th>TotalCharges</th>\n",
       "      <th>Churn</th>\n",
       "    </tr>\n",
       "  </thead>\n",
       "  <tbody>\n",
       "    <tr>\n",
       "      <th>0</th>\n",
       "      <td>0</td>\n",
       "      <td>1</td>\n",
       "      <td>0</td>\n",
       "      <td>0.000000</td>\n",
       "      <td>0</td>\n",
       "      <td>2</td>\n",
       "      <td>0</td>\n",
       "      <td>0</td>\n",
       "      <td>0</td>\n",
       "      <td>1</td>\n",
       "      <td>2</td>\n",
       "      <td>0.115423</td>\n",
       "      <td>0.001275</td>\n",
       "      <td>0</td>\n",
       "    </tr>\n",
       "    <tr>\n",
       "      <th>1</th>\n",
       "      <td>0</td>\n",
       "      <td>0</td>\n",
       "      <td>0</td>\n",
       "      <td>0.464789</td>\n",
       "      <td>2</td>\n",
       "      <td>0</td>\n",
       "      <td>2</td>\n",
       "      <td>0</td>\n",
       "      <td>1</td>\n",
       "      <td>0</td>\n",
       "      <td>3</td>\n",
       "      <td>0.385075</td>\n",
       "      <td>0.215867</td>\n",
       "      <td>0</td>\n",
       "    </tr>\n",
       "    <tr>\n",
       "      <th>2</th>\n",
       "      <td>0</td>\n",
       "      <td>0</td>\n",
       "      <td>0</td>\n",
       "      <td>0.014085</td>\n",
       "      <td>2</td>\n",
       "      <td>2</td>\n",
       "      <td>0</td>\n",
       "      <td>0</td>\n",
       "      <td>0</td>\n",
       "      <td>1</td>\n",
       "      <td>3</td>\n",
       "      <td>0.354229</td>\n",
       "      <td>0.010310</td>\n",
       "      <td>1</td>\n",
       "    </tr>\n",
       "    <tr>\n",
       "      <th>3</th>\n",
       "      <td>0</td>\n",
       "      <td>0</td>\n",
       "      <td>0</td>\n",
       "      <td>0.619718</td>\n",
       "      <td>2</td>\n",
       "      <td>0</td>\n",
       "      <td>2</td>\n",
       "      <td>2</td>\n",
       "      <td>1</td>\n",
       "      <td>0</td>\n",
       "      <td>0</td>\n",
       "      <td>0.239303</td>\n",
       "      <td>0.210241</td>\n",
       "      <td>0</td>\n",
       "    </tr>\n",
       "    <tr>\n",
       "      <th>4</th>\n",
       "      <td>0</td>\n",
       "      <td>0</td>\n",
       "      <td>0</td>\n",
       "      <td>0.014085</td>\n",
       "      <td>0</td>\n",
       "      <td>0</td>\n",
       "      <td>0</td>\n",
       "      <td>0</td>\n",
       "      <td>0</td>\n",
       "      <td>1</td>\n",
       "      <td>2</td>\n",
       "      <td>0.521891</td>\n",
       "      <td>0.015330</td>\n",
       "      <td>1</td>\n",
       "    </tr>\n",
       "  </tbody>\n",
       "</table>\n",
       "</div>"
      ],
      "text/plain": [
       "   SeniorCitizen  Partner  Dependents    tenure  OnlineSecurity  OnlineBackup  \\\n",
       "0              0        1           0  0.000000               0             2   \n",
       "1              0        0           0  0.464789               2             0   \n",
       "2              0        0           0  0.014085               2             2   \n",
       "3              0        0           0  0.619718               2             0   \n",
       "4              0        0           0  0.014085               0             0   \n",
       "\n",
       "   DeviceProtection  TechSupport  Contract  PaperlessBilling  PaymentMethod  \\\n",
       "0                 0            0         0                 1              2   \n",
       "1                 2            0         1                 0              3   \n",
       "2                 0            0         0                 1              3   \n",
       "3                 2            2         1                 0              0   \n",
       "4                 0            0         0                 1              2   \n",
       "\n",
       "   MonthlyCharges  TotalCharges  Churn  \n",
       "0        0.115423      0.001275      0  \n",
       "1        0.385075      0.215867      0  \n",
       "2        0.354229      0.010310      1  \n",
       "3        0.239303      0.210241      0  \n",
       "4        0.521891      0.015330      1  "
      ]
     },
     "execution_count": 55,
     "metadata": {},
     "output_type": "execute_result"
    }
   ],
   "source": [
    "mms = MinMaxScaler() # Normalization\n",
    "# ss = StandardScaler() # Standardization\n",
    "df1['tenure'] = mms.fit_transform(df1[['tenure']])\n",
    "df1['MonthlyCharges'] = mms.fit_transform(df1[['MonthlyCharges']])\n",
    "df1['TotalCharges'] = mms.fit_transform(df1[['TotalCharges']])\n",
    "df1.drop(columns = ['PhoneService', 'gender','StreamingTV','StreamingMovies','MultipleLines','InternetService'],inplace = True)\n",
    "df1.head()"
   ]
  },
  {
   "cell_type": "code",
   "execution_count": 56,
   "metadata": {},
   "outputs": [
    {
     "data": {
      "text/plain": [
       "Counter({0: 5163, 1: 5163})"
      ]
     },
     "execution_count": 56,
     "metadata": {},
     "output_type": "execute_result"
    }
   ],
   "source": [
    "SMOTE_ = SMOTE(sampling_strategy = 1, random_state=42)\n",
    "\n",
    "X = df1.iloc[:, :-1].values\n",
    "Y = df1['Churn'].values\n",
    "X, Y = SMOTE_.fit_resample(X, Y)\n",
    "Counter(Y)"
   ]
  },
  {
   "cell_type": "code",
   "execution_count": 57,
   "metadata": {},
   "outputs": [],
   "source": [
    "X_train, X_test, Y_train, Y_test = train_test_split(X, Y, test_size=0.2, random_state=42)\n"
   ]
  },
  {
   "cell_type": "code",
   "execution_count": 60,
   "metadata": {},
   "outputs": [
    {
     "name": "stdout",
     "output_type": "stream",
     "text": [
      "Confusion matrix: \n",
      "[[814 223]\n",
      " [147 882]]\n",
      "Classification Report: \n",
      "              precision    recall  f1-score   support\n",
      "\n",
      "           0       0.85      0.78      0.81      1037\n",
      "           1       0.80      0.86      0.83      1029\n",
      "\n",
      "    accuracy                           0.82      2066\n",
      "   macro avg       0.82      0.82      0.82      2066\n",
      "weighted avg       0.82      0.82      0.82      2066\n",
      "\n",
      "Accuracy: \n",
      "0.8209099709583737\n"
     ]
    }
   ],
   "source": [
    "# Random Forest \n",
    "rfc = RandomForestClassifier(n_estimators=700,\n",
    "        min_samples_split=2,\n",
    "        min_samples_leaf=2,\n",
    "        max_features='log2',\n",
    "        max_depth=11,\n",
    "        bootstrap=True,\n",
    "        class_weight='balanced')\n",
    "\n",
    "rfc.fit(X_train, Y_train)\n",
    "\n",
    "# Confusion Matrix\n",
    "Y_pred = rfc.predict(X_test)\n",
    "print(f\"Confusion matrix: \\n{confusion_matrix(Y_test, Y_pred)}\")\n",
    "print(f\"Classification Report: \\n{classification_report(Y_test, Y_pred)}\")\n",
    "print(f\"Accuracy: \\n{accuracy_score(Y_test, Y_pred)}\")"
   ]
  },
  {
   "cell_type": "code",
   "execution_count": 62,
   "metadata": {},
   "outputs": [
    {
     "name": "stdout",
     "output_type": "stream",
     "text": [
      "Confusion matrix: \n",
      "[[864 173]\n",
      " [185 844]]\n",
      "Classification Report: \n",
      "              precision    recall  f1-score   support\n",
      "\n",
      "           0       0.82      0.83      0.83      1037\n",
      "           1       0.83      0.82      0.83      1029\n",
      "\n",
      "    accuracy                           0.83      2066\n",
      "   macro avg       0.83      0.83      0.83      2066\n",
      "weighted avg       0.83      0.83      0.83      2066\n",
      "\n",
      "Accuracy: \n",
      "0.8267182962245886\n"
     ]
    }
   ],
   "source": [
    "gb = GradientBoostingClassifier(subsample=0.8,\n",
    "        n_estimators=300, \n",
    "        min_samples_split=10,\n",
    "        min_samples_leaf=2,\n",
    "        max_features='log2',\n",
    "        max_depth=7,\n",
    "        learning_rate=0.5, \n",
    "        random_state=42)\n",
    "gb.fit(X_train, Y_train)\n",
    "gb_pred = gb.predict(X_test)\n",
    "print(f\"Confusion matrix: \\n{confusion_matrix(Y_test, gb_pred)}\")\n",
    "print(f\"Classification Report: \\n{classification_report(Y_test, gb_pred)}\")\n",
    "print(f\"Accuracy: \\n{accuracy_score(Y_test, gb_pred)}\")"
   ]
  },
  {
   "cell_type": "code",
   "execution_count": 59,
   "metadata": {},
   "outputs": [
    {
     "name": "stdout",
     "output_type": "stream",
     "text": [
      "Confusion matrix: \n",
      "[[838 199]\n",
      " [151 878]]\n",
      "Classification Report: \n",
      "              precision    recall  f1-score   support\n",
      "\n",
      "           0       0.85      0.81      0.83      1037\n",
      "           1       0.82      0.85      0.83      1029\n",
      "\n",
      "    accuracy                           0.83      2066\n",
      "   macro avg       0.83      0.83      0.83      2066\n",
      "weighted avg       0.83      0.83      0.83      2066\n",
      "\n",
      "Accuracy: \n",
      "0.8305905130687319\n"
     ]
    }
   ],
   "source": [
    "#  stacking\n",
    "\n",
    "base_models = [\n",
    "    ('rf',  RandomForestClassifier(\n",
    "        n_estimators=700,\n",
    "        min_samples_split=2,\n",
    "        min_samples_leaf=2,\n",
    "        max_features='log2',\n",
    "        max_depth=11,\n",
    "        bootstrap=True,\n",
    "        class_weight='balanced')),\n",
    "\n",
    "    ('gb', GradientBoostingClassifier(\n",
    "        subsample=0.8,\n",
    "        n_estimators=300, \n",
    "        min_samples_split=10,\n",
    "        min_samples_leaf=2,\n",
    "        max_features='log2',\n",
    "        max_depth=7,\n",
    "        learning_rate=0.5, \n",
    "        random_state=42))\n",
    "]\n",
    "\n",
    "meta_model = LogisticRegression()\n",
    "\n",
    "stacking_clf = StackingClassifier(estimators=base_models, final_estimator=meta_model)\n",
    "\n",
    "\n",
    "stacking_clf.fit(X_train, Y_train)\n",
    "Y_pred_3 = stacking_clf.predict(X_test)\n",
    "print(f\"Confusion matrix: \\n{confusion_matrix(Y_test, Y_pred_3)}\")\n",
    "print(f\"Classification Report: \\n{classification_report(Y_test, Y_pred_3)}\")\n",
    "print(f\"Accuracy: \\n{accuracy_score(Y_test, Y_pred_3)}\")"
   ]
  },
  {
   "cell_type": "code",
   "execution_count": 66,
   "metadata": {},
   "outputs": [
    {
     "data": {
      "text/plain": [
       "0    1037\n",
       "1    1029\n",
       "Name: count, dtype: int64"
      ]
     },
     "execution_count": 66,
     "metadata": {},
     "output_type": "execute_result"
    }
   ],
   "source": [
    "pd.Series(Y_test).value_counts()"
   ]
  }
 ],
 "metadata": {
  "kernelspec": {
   "display_name": "Python 3",
   "language": "python",
   "name": "python3"
  },
  "language_info": {
   "codemirror_mode": {
    "name": "ipython",
    "version": 3
   },
   "file_extension": ".py",
   "mimetype": "text/x-python",
   "name": "python",
   "nbconvert_exporter": "python",
   "pygments_lexer": "ipython3",
   "version": "3.9.6"
  }
 },
 "nbformat": 4,
 "nbformat_minor": 2
}
